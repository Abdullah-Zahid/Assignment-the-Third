{
 "cells": [
  {
   "cell_type": "code",
   "execution_count": 3,
   "id": "67e44e65",
   "metadata": {},
   "outputs": [
    {
     "name": "stdout",
     "output_type": "stream",
     "text": [
      "{'money': 12, 'candy': 3, 'tissues': 75}\n"
     ]
    }
   ],
   "source": [
    "purse = dict()\n",
    "purse['money'] = 12\n",
    "purse['candy'] = 3\n",
    "purse['tissues'] = 75\n",
    "print(purse)\n"
   ]
  },
  {
   "cell_type": "code",
   "execution_count": 4,
   "id": "2cd41acd",
   "metadata": {},
   "outputs": [
    {
     "name": "stdout",
     "output_type": "stream",
     "text": [
      "3\n"
     ]
    }
   ],
   "source": [
    " print(purse['candy'])"
   ]
  },
  {
   "cell_type": "code",
   "execution_count": 5,
   "id": "22faf144",
   "metadata": {},
   "outputs": [
    {
     "name": "stdout",
     "output_type": "stream",
     "text": [
      "{'money': 12, 'candy': 5, 'tissues': 75}\n"
     ]
    }
   ],
   "source": [
    "purse['candy'] = purse['candy'] + 2\n",
    "print(purse)\n"
   ]
  },
  {
   "cell_type": "code",
   "execution_count": 6,
   "id": "9a5f0f22",
   "metadata": {},
   "outputs": [
    {
     "name": "stdout",
     "output_type": "stream",
     "text": [
      "[21, 183]\n"
     ]
    }
   ],
   "source": [
    "lst = list()\n",
    "lst.append(21)\n",
    "lst.append(183)\n",
    "print(lst)"
   ]
  },
  {
   "cell_type": "code",
   "execution_count": 7,
   "id": "dfec0352",
   "metadata": {},
   "outputs": [
    {
     "name": "stdout",
     "output_type": "stream",
     "text": [
      "[23, 183]\n"
     ]
    }
   ],
   "source": [
    "lst[0] = 23\n",
    "print(lst)\n"
   ]
  },
  {
   "cell_type": "code",
   "execution_count": 8,
   "id": "6335d485",
   "metadata": {},
   "outputs": [
    {
     "name": "stdout",
     "output_type": "stream",
     "text": [
      "{'age': 21, 'course': 182}\n"
     ]
    }
   ],
   "source": [
    "ddd = dict()\n",
    ">>> ddd['age'] = 21\n",
    ">>> ddd['course'] = 182\n",
    ">>> print(ddd)\n"
   ]
  },
  {
   "cell_type": "code",
   "execution_count": 9,
   "id": "e8f90c44",
   "metadata": {},
   "outputs": [
    {
     "name": "stdout",
     "output_type": "stream",
     "text": [
      "{'age': 23, 'course': 182}\n"
     ]
    }
   ],
   "source": [
    "ddd['age'] = 23\n",
    ">>> print(ddd)"
   ]
  },
  {
   "cell_type": "code",
   "execution_count": 11,
   "id": "f9680195",
   "metadata": {},
   "outputs": [
    {
     "name": "stdout",
     "output_type": "stream",
     "text": [
      "[21, 183]\n"
     ]
    }
   ],
   "source": [
    ">>> lst= list()\n",
    ">>> lst.append(21)\n",
    ">>> lst.append(183)\n",
    ">>> print(lst)\n"
   ]
  },
  {
   "cell_type": "code",
   "execution_count": 13,
   "id": "ce428467",
   "metadata": {},
   "outputs": [
    {
     "name": "stdout",
     "output_type": "stream",
     "text": [
      "{'age': 21, 'course': 182}\n"
     ]
    }
   ],
   "source": [
    "ddd = dict()\n",
    ">>> ddd['age'] = 21\n",
    ">>> ddd['course'] = 182\n",
    ">>> print(ddd)"
   ]
  },
  {
   "cell_type": "code",
   "execution_count": 14,
   "id": "624a71b0",
   "metadata": {},
   "outputs": [
    {
     "name": "stdout",
     "output_type": "stream",
     "text": [
      "{'chuck': 1, 'fred': 42, 'jan': 100}\n",
      "{}\n"
     ]
    }
   ],
   "source": [
    ">>> jjj = { 'chuck' : 1 , 'fred' : 42, 'jan': 100}\n",
    ">>> print(jjj)\n",
    "{'jan': 100, 'chuck': 1, 'fred': 42}\n",
    ">>> ooo = { }\n",
    ">>> print(ooo)\n"
   ]
  },
  {
   "cell_type": "code",
   "execution_count": 15,
   "id": "fd087d15",
   "metadata": {},
   "outputs": [
    {
     "name": "stdout",
     "output_type": "stream",
     "text": [
      "{'csev': 1, 'cwen': 1}\n"
     ]
    }
   ],
   "source": [
    ">>> ccc = dict()\n",
    ">>> ccc['csev'] = 1\n",
    ">>> ccc['cwen'] = 1\n",
    ">>> print(ccc)\n"
   ]
  },
  {
   "cell_type": "code",
   "execution_count": 16,
   "id": "e1bd6fc1",
   "metadata": {},
   "outputs": [
    {
     "name": "stdout",
     "output_type": "stream",
     "text": [
      "{'csev': 1, 'cwen': 2}\n"
     ]
    }
   ],
   "source": [
    " ccc['cwen'] = ccc['cwen'] + 1\n",
    ">>> print(ccc)"
   ]
  },
  {
   "cell_type": "code",
   "execution_count": 18,
   "id": "01958320",
   "metadata": {},
   "outputs": [
    {
     "name": "stdout",
     "output_type": "stream",
     "text": [
      "{'csev': 2, 'cwen': 2, 'zqian': 1}\n"
     ]
    }
   ],
   "source": [
    "counts = dict()\n",
    "names = ['csev', 'cwen', 'csev', 'zqian', 'cwen']\n",
    "for name in names :\n",
    "    if name not in counts: \n",
    "            counts[name] = 1\n",
    "    else :\n",
    "        counts[name] = counts[name] + 1\n",
    "print(counts)\n"
   ]
  },
  {
   "cell_type": "code",
   "execution_count": 19,
   "id": "0d6efcb8",
   "metadata": {},
   "outputs": [],
   "source": [
    "if name in counts:\n",
    "    x = counts[name]\n",
    "else :\n",
    "    x = 0\n",
    "    x = counts.get(name, 0)\n"
   ]
  },
  {
   "cell_type": "code",
   "execution_count": 20,
   "id": "38645077",
   "metadata": {},
   "outputs": [
    {
     "name": "stdout",
     "output_type": "stream",
     "text": [
      "{'csev': 2, 'cwen': 2, 'zqian': 1}\n"
     ]
    }
   ],
   "source": [
    "counts = dict()\n",
    "names = ['csev', 'cwen', 'csev', 'zqian', 'cwen']\n",
    "for name in names :\n",
    "    counts[name] = counts.get(name, 0) + 1\n",
    "print(counts)"
   ]
  },
  {
   "cell_type": "code",
   "execution_count": 21,
   "id": "79923685",
   "metadata": {},
   "outputs": [
    {
     "name": "stdout",
     "output_type": "stream",
     "text": [
      "{'csev': 2, 'cwen': 2, 'zqian': 1}\n"
     ]
    }
   ],
   "source": [
    "counts = dict()\n",
    "names = ['csev', 'cwen', 'csev', 'zqian', 'cwen']\n",
    "for name in names :\n",
    "    counts[name] = counts.get(name, 0) + 1\n",
    "print(counts)\n"
   ]
  },
  {
   "cell_type": "code",
   "execution_count": 22,
   "id": "331f3b3f",
   "metadata": {},
   "outputs": [
    {
     "name": "stdout",
     "output_type": "stream",
     "text": [
      "Enter a line of text:\n",
      "This one will Help\n",
      "Words: ['This', 'one', 'will', 'Help']\n",
      "Counting...\n",
      "Counts {'This': 1, 'one': 1, 'will': 1, 'Help': 1}\n"
     ]
    }
   ],
   "source": [
    "counts = dict()\n",
    "print('Enter a line of text:')\n",
    "line = input('')\n",
    "words = line.split()\n",
    "print('Words:', words)\n",
    "print('Counting...')\n",
    "for word in words:\n",
    "    counts[word] = counts.get(word,0) + 1\n",
    "print('Counts', counts)\n"
   ]
  },
  {
   "cell_type": "code",
   "execution_count": 24,
   "id": "6f2eb8c4",
   "metadata": {},
   "outputs": [
    {
     "name": "stdout",
     "output_type": "stream",
     "text": [
      "Enter a line of text:HELP ME\n",
      "Words: ['HELP', 'ME']\n",
      "Counting\n",
      "Counts {'HELP': 1, 'ME': 1}\n"
     ]
    }
   ],
   "source": [
    "counts = dict()\n",
    "line = input('Enter a line of text:')\n",
    "words = line.split()\n",
    "print('Words:', words)\n",
    "print(\"Counting\")\n",
    "for word in words:\n",
    "    counts[word] = counts.get(word,0) + 1\n",
    "print('Counts', counts)\n"
   ]
  },
  {
   "cell_type": "code",
   "execution_count": 25,
   "id": "97521b6a",
   "metadata": {},
   "outputs": [
    {
     "name": "stdout",
     "output_type": "stream",
     "text": [
      "chuck 1\n",
      "fred 42\n",
      "jan 100\n"
     ]
    }
   ],
   "source": [
    ">>> counts = { 'chuck' : 1 , 'fred' : 42, 'jan': 100}\n",
    ">>> for key in counts:\n",
    "    print(key, counts[key])\n"
   ]
  },
  {
   "cell_type": "code",
   "execution_count": 26,
   "id": "ab173651",
   "metadata": {},
   "outputs": [
    {
     "name": "stdout",
     "output_type": "stream",
     "text": [
      "['chuck', 'fred', 'jan']\n",
      "dict_keys(['chuck', 'fred', 'jan'])\n",
      "dict_values([1, 42, 100])\n",
      "dict_items([('chuck', 1), ('fred', 42), ('jan', 100)])\n"
     ]
    }
   ],
   "source": [
    ">>> jjj = { 'chuck' : 1 , 'fred' : 42, 'jan': 100}\n",
    ">>> print(list(jjj))\n",
    ">>> print(jjj.keys())\n",
    ">>> print(jjj.values())\n",
    ">>> print(jjj.items())"
   ]
  },
  {
   "cell_type": "code",
   "execution_count": 27,
   "id": "9a6121c9",
   "metadata": {},
   "outputs": [
    {
     "name": "stdout",
     "output_type": "stream",
     "text": [
      "chuck 1\n",
      "fred 42\n",
      "jan 100\n"
     ]
    }
   ],
   "source": [
    "jjj = { 'chuck' : 1 , 'fred' : 42, 'jan': 100}\n",
    "for aaa,bbb in jjj.items() :\n",
    "    print(aaa, bbb)\n"
   ]
  },
  {
   "cell_type": "code",
   "execution_count": null,
   "id": "d6078847",
   "metadata": {},
   "outputs": [],
   "source": [
    "name = input('Enter file:')\n",
    "handle = open(name)\n",
    "counts = dict()\n",
    "for line in handle:\n",
    "    words = line.split()\n",
    "    for word in words:\n",
    "        counts[word] = counts.get(word,0) + 1\n",
    "bigcount = None\n",
    "bigword = None\n",
    "for word,count in counts.items():\n",
    "    if bigcount is None or count > bigcount:\n",
    "        bigword = word\n",
    "        bigcount = count\n",
    "print(bigword, bigcount)"
   ]
  },
  {
   "cell_type": "code",
   "execution_count": null,
   "id": "13de08de",
   "metadata": {},
   "outputs": [],
   "source": []
  }
 ],
 "metadata": {
  "kernelspec": {
   "display_name": "Python 3 (ipykernel)",
   "language": "python",
   "name": "python3"
  },
  "language_info": {
   "codemirror_mode": {
    "name": "ipython",
    "version": 3
   },
   "file_extension": ".py",
   "mimetype": "text/x-python",
   "name": "python",
   "nbconvert_exporter": "python",
   "pygments_lexer": "ipython3",
   "version": "3.11.4"
  }
 },
 "nbformat": 4,
 "nbformat_minor": 5
}
